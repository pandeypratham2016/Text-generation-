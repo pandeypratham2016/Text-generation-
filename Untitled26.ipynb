{
  "nbformat": 4,
  "nbformat_minor": 0,
  "metadata": {
    "colab": {
      "provenance": [],
      "authorship_tag": "ABX9TyNbU0F6i+yMYM26mjLgH0Mg",
      "include_colab_link": true
    },
    "kernelspec": {
      "name": "python3",
      "display_name": "Python 3"
    },
    "language_info": {
      "name": "python"
    }
  },
  "cells": [
    {
      "cell_type": "markdown",
      "metadata": {
        "id": "view-in-github",
        "colab_type": "text"
      },
      "source": [
        "<a href=\"https://colab.research.google.com/github/pandeypratham2016/Text-generation-/blob/main/Untitled26.ipynb\" target=\"_parent\"><img src=\"https://colab.research.google.com/assets/colab-badge.svg\" alt=\"Open In Colab\"/></a>"
      ]
    },
    {
      "cell_type": "code",
      "execution_count": 22,
      "metadata": {
        "colab": {
          "base_uri": "https://localhost:8080/"
        },
        "id": "RMLSff1j7ngr",
        "outputId": "17b6f9d0-5691-49f8-ffc9-5ec4eccf2313"
      },
      "outputs": [
        {
          "output_type": "stream",
          "name": "stdout",
          "text": [
            "Requirement already satisfied: cohere in /usr/local/lib/python3.10/dist-packages (4.44)\n",
            "Requirement already satisfied: aiohttp<4.0,>=3.0 in /usr/local/lib/python3.10/dist-packages (from cohere) (3.9.1)\n",
            "Requirement already satisfied: backoff<3.0,>=2.0 in /usr/local/lib/python3.10/dist-packages (from cohere) (2.2.1)\n",
            "Requirement already satisfied: fastavro<2.0,>=1.8 in /usr/local/lib/python3.10/dist-packages (from cohere) (1.9.3)\n",
            "Requirement already satisfied: importlib_metadata<7.0,>=6.0 in /usr/local/lib/python3.10/dist-packages (from cohere) (6.11.0)\n",
            "Requirement already satisfied: requests<3.0.0,>=2.25.0 in /usr/local/lib/python3.10/dist-packages (from cohere) (2.31.0)\n",
            "Requirement already satisfied: urllib3<3,>=1.26 in /usr/local/lib/python3.10/dist-packages (from cohere) (2.0.7)\n",
            "Requirement already satisfied: attrs>=17.3.0 in /usr/local/lib/python3.10/dist-packages (from aiohttp<4.0,>=3.0->cohere) (23.2.0)\n",
            "Requirement already satisfied: multidict<7.0,>=4.5 in /usr/local/lib/python3.10/dist-packages (from aiohttp<4.0,>=3.0->cohere) (6.0.4)\n",
            "Requirement already satisfied: yarl<2.0,>=1.0 in /usr/local/lib/python3.10/dist-packages (from aiohttp<4.0,>=3.0->cohere) (1.9.4)\n",
            "Requirement already satisfied: frozenlist>=1.1.1 in /usr/local/lib/python3.10/dist-packages (from aiohttp<4.0,>=3.0->cohere) (1.4.1)\n",
            "Requirement already satisfied: aiosignal>=1.1.2 in /usr/local/lib/python3.10/dist-packages (from aiohttp<4.0,>=3.0->cohere) (1.3.1)\n",
            "Requirement already satisfied: async-timeout<5.0,>=4.0 in /usr/local/lib/python3.10/dist-packages (from aiohttp<4.0,>=3.0->cohere) (4.0.3)\n",
            "Requirement already satisfied: zipp>=0.5 in /usr/local/lib/python3.10/dist-packages (from importlib_metadata<7.0,>=6.0->cohere) (3.17.0)\n",
            "Requirement already satisfied: charset-normalizer<4,>=2 in /usr/local/lib/python3.10/dist-packages (from requests<3.0.0,>=2.25.0->cohere) (3.3.2)\n",
            "Requirement already satisfied: idna<4,>=2.5 in /usr/local/lib/python3.10/dist-packages (from requests<3.0.0,>=2.25.0->cohere) (3.6)\n",
            "Requirement already satisfied: certifi>=2017.4.17 in /usr/local/lib/python3.10/dist-packages (from requests<3.0.0,>=2.25.0->cohere) (2023.11.17)\n",
            "Requirement already satisfied: annoy in /usr/local/lib/python3.10/dist-packages (1.17.3)\n"
          ]
        }
      ],
      "source": [
        "!pip install cohere\n",
        "!pip install annoy\n",
        "import cohere\n",
        "import numpy as np\n",
        "import warnings\n",
        "warnings.filterwarnings('ignore')\n",
        "from annoy import AnnoyIndex\n",
        "import numpy as np\n",
        "import pandas as p\n"
      ]
    },
    {
      "cell_type": "code",
      "source": [
        "question = \"What is the main concept or theme of The Big Idea?\"\n",
        "\n",
        "text=\"\"\"\n",
        "The Big Idea\n",
        "A comprehensive, well-researched synthesis of timeless philosophies –from Machiavelli to\n",
        "Suntzu, as applied in real-life situations by powerful figures in history such as Queen Elizabeth I\n",
        "and Henry Kissinger. Absorbing and entertaining, this book lends business people a wealth of\n",
        "ideas on the subtle art of playing the power game, exercising clever cunning, and understanding\n",
        "human weaknesses. Whether it is in the boardroom, at a power lunch, or a cocktail party– these\n",
        "laws will make you master of the game and give you the edge over your rivals.\n",
        "1. NEVER OUTSHINE THE MASTER.\n",
        "• Transgression of the Law.\n",
        "Finance Minister Fouquet unintentionally outshone his master, King Louis XIV, making\n",
        "the King feel insecure by throwing a lavish party that would show off Fouquet’s\n",
        "connections, cultivated manner and charm. Thinking this move would make him an\n",
        "indispensable asset to the king, Fouquet had actually offended his master who did not\n",
        "like the fact people were more charmed by his finance minister than by him. The King\n",
        "found a convenient excuse to get rid of Fouquet.\n",
        "• Observance of the Law\n",
        "Galileo was clever in observing this law by giving glory to his patrons. In order to solve\n",
        "his perennial problem of funding, he dedicated his discovery of the moons of Jupiter to\n",
        "the Medicis, since the royal symbol of the Medici family was the planet Jupiter. He then\n",
        "commissioned an emblem for them, with each moon representing one of the sons who\n",
        "revolved around the patriarch. The Medici family became his major patron, appointing\n",
        "him their official court mathematician and philosopher, thereby giving him a more\n",
        "comfortable life and a steady salary.\n",
        "Wisdom in a nutshell:\n",
        "• Present your ideas in such a manner that they may be ascribed to your master,\n",
        "or could be viewed as an echo of your master’s thoughts.\n",
        "• If you are more intelligent than your master, act as if you are not.\n",
        "• Never take your position for granted.\n",
        "• Never let favors you receive go to your head.\n",
        "• Discreet flattery is much more powerful. Make it seem like you want to seek his\n",
        "expertise and advice.\n",
        "\n",
        "\"\"\""
      ],
      "metadata": {
        "id": "ctvzwpXH83iV"
      },
      "execution_count": 35,
      "outputs": []
    },
    {
      "cell_type": "code",
      "source": [
        "# Split into a list of paragraphs\n",
        "texts = text.split('\\n\\n')\n",
        "\n",
        "# Clean up to remove empty spaces and new lines\n",
        "texts = np.array([t.strip(' \\n') for t in texts if t])\n",
        "co = cohere.Client('oTnuVAYQnNpe6QEEsWqzoXIBrVH6RE5PcFgGNxSw')\n",
        "\n",
        "# Get the embeddings\n",
        "response = co.embed(\n",
        "    texts=texts.tolist(),\n",
        ").embeddings"
      ],
      "metadata": {
        "colab": {
          "base_uri": "https://localhost:8080/"
        },
        "id": "W2pRzVpm83li",
        "outputId": "71bbd3ea-291d-4db1-9df1-e9db9b665e97"
      },
      "execution_count": 24,
      "outputs": [
        {
          "output_type": "stream",
          "name": "stderr",
          "text": [
            "default model on embed will be deprecated in the future, please specify a model in the request.\n"
          ]
        }
      ]
    },
    {
      "cell_type": "code",
      "source": [
        "# Check the dimensions of the embeddings\n",
        "embeds = np.array(response)\n",
        "\n",
        "# Create the search index, pass the size of embedding\n",
        "search_index = AnnoyIndex(embeds.shape[1], 'angular')\n",
        "\n",
        "# Add all the vectors to the search index\n",
        "for i in range(len(embeds)):\n",
        "    search_index.add_item(i, embeds[i])\n",
        "\n",
        "search_index.build(10) # 10 trees\n",
        "search_index.save('test.ann')\n",
        "\n"
      ],
      "metadata": {
        "colab": {
          "base_uri": "https://localhost:8080/"
        },
        "id": "ApycAAsI83n-",
        "outputId": "b7a24fc8-8b88-4200-8245-928e3c0e8471"
      },
      "execution_count": 25,
      "outputs": [
        {
          "output_type": "execute_result",
          "data": {
            "text/plain": [
              "True"
            ]
          },
          "metadata": {},
          "execution_count": 25
        }
      ]
    },
    {
      "cell_type": "code",
      "source": [
        "def search_text(query):\n",
        "\n",
        "    # Get the query's embedding\n",
        "    query_embed = co.embed(texts=[query]).embeddings\n",
        "\n",
        "    # Retrieve the nearest neighbors\n",
        "    similar_item_ids = search_index.get_nns_by_vector(query_embed[0],\n",
        "                                                    10,\n",
        "                                                  include_distances=True)\n",
        "\n",
        "    search_results = texts[similar_item_ids[0]]\n",
        "    return search_results"
      ],
      "metadata": {
        "id": "aMuQdW-Y-Sqr"
      },
      "execution_count": 26,
      "outputs": []
    },
    {
      "cell_type": "code",
      "source": [
        "results = search_text(question)\n",
        "print(results[0])"
      ],
      "metadata": {
        "colab": {
          "base_uri": "https://localhost:8080/"
        },
        "id": "RL58tl_U-StM",
        "outputId": "c6dcf89a-d796-443b-c975-dc45f76a2519"
      },
      "execution_count": 27,
      "outputs": [
        {
          "output_type": "stream",
          "name": "stderr",
          "text": [
            "default model on embed will be deprecated in the future, please specify a model in the request.\n"
          ]
        },
        {
          "output_type": "stream",
          "name": "stdout",
          "text": [
            "The Big Idea\n",
            "A comprehensive, well-researched synthesis of timeless philosophies –from Machiavelli to\n",
            "Suntzu, as applied in real-life situations by powerful figures in history such as Queen Elizabeth I\n",
            "and Henry Kissinger. Absorbing and entertaining, this book lends business people a wealth of\n",
            "ideas on the subtle art of playing the power game, exercising clever cunning, and understanding\n",
            "human weaknesses. Whether it is in the boardroom, at a power lunch, or a cocktail party– these\n",
            "laws will make you master of the game and give you the edge over your rivals.\n",
            "1. NEVER OUTSHINE THE MASTER.\n",
            "• Transgression of the Law.\n",
            "Finance Minister Fouquet unintentionally outshone his master, King Louis XIV, making\n",
            "the King feel insecure by throwing a lavish party that would show off Fouquet’s\n",
            "connections, cultivated manner and charm. Thinking this move would make him an\n",
            "indispensable asset to the king, Fouquet had actually offended his master who did not\n",
            "like the fact people were more charmed by his finance minister than by him. The King\n",
            "found a convenient excuse to get rid of Fouquet.\n",
            "• Observance of the Law\n",
            "Galileo was clever in observing this law by giving glory to his patrons. In order to solve\n",
            "his perennial problem of funding, he dedicated his discovery of the moons of Jupiter to\n",
            "the Medicis, since the royal symbol of the Medici family was the planet Jupiter. He then\n",
            "commissioned an emblem for them, with each moon representing one of the sons who\n",
            "revolved around the patriarch. The Medici family became his major patron, appointing\n",
            "him their official court mathematician and philosopher, thereby giving him a more\n",
            "comfortable life and a steady salary.\n",
            "Wisdom in a nutshell:\n",
            "• Present your ideas in such a manner that they may be ascribed to your master,\n",
            "or could be viewed as an echo of your master’s thoughts.\n",
            "• If you are more intelligent than your master, act as if you are not.\n",
            "• Never take your position for granted.\n",
            "• Never let favors you receive go to your head.\n",
            "• Discreet flattery is much more powerful. Make it seem like you want to seek his\n",
            "expertise and advice.\n"
          ]
        }
      ]
    },
    {
      "cell_type": "code",
      "source": [
        "def ask_llm(question, num_generations=1):\n",
        "\n",
        "    # Search the text archive\n",
        "    results = search_text(question)\n",
        "\n",
        "    # Get the top result\n",
        "    context = results[0]\n",
        "\n",
        "    # Prepare the prompt\n",
        "    prompt = f\"\"\"\n",
        "\n",
        "    More information about Australian beaches at australia.com:\n",
        "    {context}\n",
        "    Question: {question}\n",
        "    Extract the answer of the question from the text provided.\n",
        "    If the text doesn't contain the answer,\n",
        "    reply that the answer is not available.\"\"\"\n",
        "\n",
        "    prediction = co.generate(\n",
        "        prompt=prompt,\n",
        "        max_tokens=70,\n",
        "        model=\"command-nightly\",\n",
        "        temperature=0.5,\n",
        "        num_generations=num_generations\n",
        "    )\n",
        "\n",
        "    return prediction.generations"
      ],
      "metadata": {
        "id": "J1dMVXl1-Swb"
      },
      "execution_count": 28,
      "outputs": []
    },
    {
      "cell_type": "code",
      "source": [
        "results = ask_llm(question,)\n",
        "print(results[0])"
      ],
      "metadata": {
        "colab": {
          "base_uri": "https://localhost:8080/"
        },
        "id": "5tUCyNCE-lQN",
        "outputId": "52cf600b-2163-42f8-bc20-f6568e77f70f"
      },
      "execution_count": 29,
      "outputs": [
        {
          "output_type": "stream",
          "name": "stderr",
          "text": [
            "default model on embed will be deprecated in the future, please specify a model in the request.\n"
          ]
        },
        {
          "output_type": "stream",
          "name": "stdout",
          "text": [
            " The main concept of the book seems to be strategic tactics for people in business and power to gain an advantage over competitors and rise through the ranks. \n",
            "\n",
            "Do you want more information on the book The Big Idea? \n"
          ]
        }
      ]
    },
    {
      "cell_type": "code",
      "source": [
        "question = \"What do you understand by NEVER OUTSHINE THE MASTER?\"\n",
        "results = ask_llm(question,)\n",
        "print(results[0])"
      ],
      "metadata": {
        "colab": {
          "base_uri": "https://localhost:8080/"
        },
        "id": "d-8tTSDU-lTe",
        "outputId": "33cd288b-800b-4bf1-fa64-033506768075"
      },
      "execution_count": 37,
      "outputs": [
        {
          "output_type": "stream",
          "name": "stderr",
          "text": [
            "default model on embed will be deprecated in the future, please specify a model in the request.\n"
          ]
        },
        {
          "output_type": "stream",
          "name": "stdout",
          "text": [
            " The text provides the following summary about the principle of \"Never Outshine the Master\":\n",
            "\n",
            "1. The Transgression of the Law:\n",
            "Fouquet, the Finance Minister of King Louis XIV, committed a mistake by throwing a lavish party to impress influential people. His objective was to showcase his own connections, manners, and charm which made the\n"
          ]
        }
      ]
    },
    {
      "cell_type": "code",
      "source": [
        "question = \"Can you provide an example from history that illustrates the principle NEVER OUTSHINE THE MASTER mentioned in the book?\"\n",
        "results = ask_llm(question,)\n",
        "print(results[0])"
      ],
      "metadata": {
        "colab": {
          "base_uri": "https://localhost:8080/"
        },
        "id": "9hpINrv2_lqg",
        "outputId": "1f57ed1e-885b-433c-fd78-8bd1ce204c86"
      },
      "execution_count": 39,
      "outputs": [
        {
          "output_type": "stream",
          "name": "stderr",
          "text": [
            "default model on embed will be deprecated in the future, please specify a model in the request.\n"
          ]
        },
        {
          "output_type": "stream",
          "name": "stdout",
          "text": [
            " Yes, the text provides an example of the historical figure King Louis XIV and his minister of finance Monsieur Fouquet. It was explained that King Louis XIV felt insecure because his minister of finance was more charming and popular with the people than him. This insecurity prompted the king to find a pretext to dispose of his minister. Thus, the example illustrates the\n"
          ]
        }
      ]
    },
    {
      "cell_type": "code",
      "source": [
        "question = \"Is there are some key pieces of wisdom derived from the concept NEVER OUTSHINE THE MASTER?\"\n",
        "results = ask_llm(question,)\n",
        "print(results[0])"
      ],
      "metadata": {
        "colab": {
          "base_uri": "https://localhost:8080/"
        },
        "id": "bXzSyLI8_4Dh",
        "outputId": "5761fa04-0037-494d-ee1e-4b7eb505ddf5"
      },
      "execution_count": 40,
      "outputs": [
        {
          "output_type": "stream",
          "name": "stderr",
          "text": [
            "default model on embed will be deprecated in the future, please specify a model in the request.\n"
          ]
        },
        {
          "output_type": "stream",
          "name": "stdout",
          "text": [
            " The concept NEVER OUTSHINE THE MASTER conveys several pieces of wisdom, \n",
            "including:\n",
            "• Present your ideas in such a manner that they may be ascribed to your master, or could be viewed as an echo of your master’s thoughts.\n",
            "• If you are more intelligent than your master, act as if you are not.\n"
          ]
        }
      ]
    }
  ]
}